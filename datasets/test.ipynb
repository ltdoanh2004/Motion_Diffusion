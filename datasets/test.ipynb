{
 "cells": [
  {
   "cell_type": "code",
   "execution_count": 1,
   "id": "a4393cba",
   "metadata": {},
   "outputs": [],
   "source": [
    "from pymo.parsers import BVHParser\n",
    "\n",
    "parser = BVHParser()\n",
    "#fbs  = 60\n",
    "parsed_data = parser.parse('/home/ltdoanh/ldtan/Motion_Diffusion/datasets/BEAT/beat_english_v0.2.1/beat_english_v0.2.1/1/1_wayne_0_1_1.bvh')"
   ]
  },
  {
   "cell_type": "code",
   "execution_count": null,
   "id": "3f7d1a01",
   "metadata": {},
   "outputs": [],
   "source": [
    "from pymo.viz_tools import *\n",
    "\n",
    "print_skel(parsed_data)"
   ]
  },
  {
   "cell_type": "code",
   "execution_count": null,
   "id": "57e44299",
   "metadata": {},
   "outputs": [],
   "source": [
    "\n",
    "from pymo.preprocessing import *\n",
    "from sklearn.pipeline import Pipeline\n",
    "\n",
    "data_pipe = Pipeline([\n",
    "    ('param', MocapParameterizer('position')),\n",
    "    ('rcpn', RootCentricPositionNormalizer()),\n",
    "    ('delta', RootTransformer('abdolute_translation_deltas')),\n",
    "    ('const', ConstantsRemover()),\n",
    "    ('np', Numpyfier()),\n",
    "    ('down', DownSampler(2)),\n",
    "    ('stdscale', ListStandardScaler())\n",
    "])\n",
    "\n",
    "piped_data = data_pipe.fit_transform([parsed_data])"
   ]
  },
  {
   "cell_type": "code",
   "execution_count": 12,
   "id": "2cbd5348",
   "metadata": {},
   "outputs": [
    {
     "name": "stdout",
     "output_type": "stream",
     "text": [
      "(1, 4140, 264)\n"
     ]
    }
   ],
   "source": [
    "print(piped_data.shape) "
   ]
  },
  {
   "cell_type": "code",
   "execution_count": 18,
   "id": "e3e56326",
   "metadata": {},
   "outputs": [],
   "source": [
    "split_data = np.split(piped_data, 2, axis=1)"
   ]
  },
  {
   "cell_type": "code",
   "execution_count": null,
   "id": "bf1b2b93",
   "metadata": {},
   "outputs": [],
   "source": [
    "spl"
   ]
  },
  {
   "cell_type": "code",
   "execution_count": 15,
   "id": "9219bb63",
   "metadata": {},
   "outputs": [],
   "source": [
    "import os  \n",
    "import numpy as np  \n",
    "from textgrid import TextGrid  \n",
    "  \n",
    "def time_to_frame(t, fps=60):  \n",
    "    return int(round(t * fps))  \n",
    "  \n",
    "def extract_sentences_with_text(  \n",
    "    textgrid_path, text_path, motion_data, output_dir, fps=30, pause_threshold=0.5,   \n",
    "    split_parts=2, use_first_part_only=True  \n",
    "):  \n",
    "    basename = os.path.splitext(os.path.basename(textgrid_path))[0]  \n",
    "      \n",
    "    # Áp dụng cách tách frames như trong PyMO pipeline  \n",
    "    if motion_data.ndim == 3:  # Shape: (1, frames, features)  \n",
    "        # Split dữ liệu theo axis=1 (features)  \n",
    "        split_data = np.split(motion_data, split_parts, axis=1)  \n",
    "          \n",
    "        if use_first_part_only:  \n",
    "            # Lấy phần đầu tiên và reshape từ 3D về 2D  \n",
    "            motion = split_data[0].squeeze(0)  # Shape: (frames, features/2)  \n",
    "        else:  \n",
    "            # Reshape tất cả các phần  \n",
    "            reshaped_data = [data.squeeze(0) for data in split_data]  \n",
    "            motion = reshaped_data[0]  # Sử dụng phần đầu tiên  \n",
    "    else:  \n",
    "        # Nếu đã là 2D, sử dụng trực tiếp  \n",
    "        motion = motion_data[0] if motion_data.ndim == 2 else motion_data  \n",
    "      \n",
    "    max_frames = motion.shape[0]  \n",
    "      \n",
    "    tg = TextGrid.fromFile(textgrid_path)  \n",
    "    tier = tg[0]  \n",
    "  \n",
    "    # with open(text_path, 'r') as f:  \n",
    "    #     full_text = f.read().strip()  \n",
    "  \n",
    "    os.makedirs(output_dir, exist_ok=True)  \n",
    "  \n",
    "    sentence_start = None  \n",
    "    sentence_end = None  \n",
    "    sentence_text = []  \n",
    "    sentence_idx = 0  \n",
    "      \n",
    "    def save_sentence():  \n",
    "        nonlocal sentence_idx, sentence_start, sentence_end, sentence_text  \n",
    "          \n",
    "        if not sentence_text or sentence_start is None or sentence_end is None:  \n",
    "            return  \n",
    "              \n",
    "        start_frame = time_to_frame(sentence_start, fps)  \n",
    "        end_frame = time_to_frame(sentence_end, fps)  \n",
    "          \n",
    "        # Đảm bảo không vượt quá bounds của motion data  \n",
    "        start_frame = max(0, start_frame)  \n",
    "        end_frame = min(max_frames, end_frame)  \n",
    "          \n",
    "        if end_frame <= start_frame:  \n",
    "            print(f\"⚠️ Skipped sentence {sentence_idx}: invalid frame range [{start_frame}, {end_frame}]\")  \n",
    "            return  \n",
    "              \n",
    "        motion_segment = motion[start_frame:end_frame, :]  \n",
    "          \n",
    "        fname_base = f\"{basename}_sentence_{sentence_idx:03d}\"  \n",
    "        np.save(os.path.join(output_dir, fname_base + \".npy\"), motion_segment)  \n",
    "          \n",
    "        with open(os.path.join(output_dir, fname_base + \".txt\"), 'w') as ftxt:  \n",
    "            ftxt.write(\" \".join(sentence_text))  \n",
    "          \n",
    "        print(f\"✅ Saved: {fname_base}.npy & .txt (frames: {start_frame}-{end_frame}, shape: {motion_segment.shape})\")  \n",
    "        sentence_idx += 1  \n",
    "  \n",
    "    # Xử lý TextGrid intervals  \n",
    "    for interval in tier.intervals:  \n",
    "        word = interval.mark.strip()  \n",
    "        xmin = float(interval.minTime)  \n",
    "        xmax = float(interval.maxTime)  \n",
    "  \n",
    "        if word != \"\":  \n",
    "            if sentence_start is None:  \n",
    "                sentence_start = xmin  \n",
    "            sentence_end = xmax  \n",
    "            sentence_text.append(word)  \n",
    "        else:  \n",
    "            pause_duration = xmax - xmin  \n",
    "            if pause_duration >= pause_threshold and sentence_text:  \n",
    "                save_sentence()  \n",
    "                  \n",
    "                # Reset cho câu tiếp theo  \n",
    "                sentence_start = None  \n",
    "                sentence_end = None  \n",
    "                sentence_text = []  \n",
    "  \n",
    "    # Lưu câu cuối cùng  \n",
    "    if sentence_text:  \n",
    "        save_sentence()  \n",
    "  \n",
    "    print(f\"🎉 Extracted {sentence_idx} sentences from {basename}\")"
   ]
  },
  {
   "cell_type": "code",
   "execution_count": 16,
   "id": "f139bd3c",
   "metadata": {},
   "outputs": [
    {
     "name": "stdout",
     "output_type": "stream",
     "text": [
      "✅ Saved: 1_wayne_0_1_1_sentence_000.npy & .txt (frames: 40-204, shape: (164, 264))\n",
      "✅ Saved: 1_wayne_0_1_1_sentence_001.npy & .txt (frames: 221-389, shape: (168, 264))\n",
      "✅ Saved: 1_wayne_0_1_1_sentence_002.npy & .txt (frames: 408-520, shape: (112, 264))\n",
      "✅ Saved: 1_wayne_0_1_1_sentence_003.npy & .txt (frames: 544-694, shape: (150, 264))\n",
      "✅ Saved: 1_wayne_0_1_1_sentence_004.npy & .txt (frames: 718-879, shape: (161, 264))\n",
      "✅ Saved: 1_wayne_0_1_1_sentence_005.npy & .txt (frames: 896-1176, shape: (280, 264))\n",
      "✅ Saved: 1_wayne_0_1_1_sentence_006.npy & .txt (frames: 1194-1247, shape: (53, 264))\n",
      "✅ Saved: 1_wayne_0_1_1_sentence_007.npy & .txt (frames: 1282-1479, shape: (197, 264))\n",
      "✅ Saved: 1_wayne_0_1_1_sentence_008.npy & .txt (frames: 1500-1774, shape: (274, 264))\n",
      "✅ Saved: 1_wayne_0_1_1_sentence_009.npy & .txt (frames: 1791-1866, shape: (75, 264))\n",
      "✅ Saved: 1_wayne_0_1_1_sentence_010.npy & .txt (frames: 1887-2018, shape: (131, 264))\n",
      "🎉 Extracted 11 sentences from 1_wayne_0_1_1\n"
     ]
    }
   ],
   "source": [
    "extract_sentences_with_text(textgrid_path='/home/ltdoanh/ldtan/Motion_Diffusion/datasets/BEAT/beat_english_v0.2.1/beat_english_v0.2.1/1/1_wayne_0_1_1.TextGrid',\n",
    "                            text_path=\"./text.txt\",\n",
    "                            motion_data = piped_data,\n",
    "                            output_dir = \"./\",\n",
    "                            )"
   ]
  },
  {
   "cell_type": "code",
   "execution_count": null,
   "id": "75e4aaeb",
   "metadata": {},
   "outputs": [],
   "source": [
    "import os\n",
    "import numpy as np\n",
    "from pymo.parsers import BVHParser\n",
    "from pymo.preprocessing import *\n",
    "from sklearn.pipeline import Pipeline\n",
    "data_dir = \"/home/ltdoanh/ldtan/Motion_Diffusion/datasets/BEAT_numpy\"\n",
    "base_dir = \"/home/ltdoanh/ldtan/Motion_Diffusion/datasets/BEAT/beat_english_v0.2.1/beat_english_v0.2.1/1\"\n",
    "npy_out_dir = os.path.join(data_dir , \"npy_segments\")\n",
    "txt_out_dir = os.path.join(data_dir, \"txt_segments\")\n",
    "os.makedirs(npy_out_dir, exist_ok=True)\n",
    "os.makedirs(txt_out_dir, exist_ok=True)\n",
    "\n",
    "parser = BVHParser()\n",
    "\n",
    "data_pipe = Pipeline([\n",
    "    ('param', MocapParameterizer('position')),\n",
    "    ('rcpn', RootCentricPositionNormalizer()),\n",
    "    ('delta', RootTransformer('abdolute_translation_deltas')),\n",
    "    ('const', ConstantsRemover()),\n",
    "    ('np', Numpyfier()),\n",
    "    ('down', DownSampler(2)),\n",
    "    ('stdscale', ListStandardScaler())\n",
    "])\n",
    "\n",
    "for fname in os.listdir(base_dir):\n",
    "    if fname.endswith(\".bvh\"):\n",
    "        basename = fname.replace(\".bvh\", \"\")\n",
    "        bvh_path = os.path.join(base_dir, fname)\n",
    "        textgrid_path = os.path.join(base_dir, basename + \".TextGrid\")\n",
    "        text_path = os.path.join(base_dir, basename + \".txt\")\n",
    "        if not os.path.exists(textgrid_path) or not os.path.exists(text_path):\n",
    "            continue  # Bỏ qua nếu thiếu file\n",
    "\n",
    "        # Parse BVH và chạy pipeline\n",
    "        if not os.path.exists(textgrid_path) or not os.path.exists(text_path):\n",
    "            continue  # Bỏ qua nếu thiếu file\n",
    "\n",
    "        try:\n",
    "            parsed_data = parser.parse(bvh_path)\n",
    "        except Exception as e:\n",
    "            print(f\"❌ Lỗi khi parse {bvh_path}: {e}\")\n",
    "            continue\n",
    "        piped_data = data_pipe.fit_transform([parsed_data])\n",
    "\n",
    "        # Gọi hàm tách segment\n",
    "        extract_sentences_with_text(\n",
    "            textgrid_path=textgrid_path,\n",
    "            text_path=text_path,\n",
    "            motion_data=piped_data,\n",
    "            output_dir=npy_out_dir,\n",
    "            split_parts=2,\n",
    "            use_first_part_only=True\n",
    "        )\n",
    "\n",
    "        # Di chuyển file .txt sang txt_out_dir\n",
    "        for f in os.listdir(npy_out_dir):\n",
    "            if f.endswith(\".txt\"):\n",
    "                os.rename(os.path.join(npy_out_dir, f), os.path.join(txt_out_dir, f))"
   ]
  },
  {
   "cell_type": "code",
   "execution_count": 2,
   "id": "e1fa1c06",
   "metadata": {},
   "outputs": [
    {
     "name": "stdout",
     "output_type": "stream",
     "text": [
      "Tổng số file: 955\n",
      "Tổng số file: 955\n"
     ]
    }
   ],
   "source": [
    "import os\n",
    "\n",
    "def count_files(folder, ext=None):\n",
    "    \"\"\"\n",
    "    Đếm số file trong folder. Nếu ext được cung cấp (ví dụ '.bvh'), chỉ đếm file có đuôi đó.\n",
    "    \"\"\"\n",
    "    files = os.listdir(folder)\n",
    "    if ext:\n",
    "        files = [f for f in files if f.endswith(ext)]\n",
    "    return len(files)\n",
    "\n",
    "# Ví dụ:\n",
    "folder_path = \"/home/ltdoanh/ldtan/Motion_Diffusion/datasets/BEAT_numpy/npy_segments\"\n",
    "print(\"Tổng số file:\", count_files(folder_path))\n",
    "\n",
    "folder_path = \"/home/ltdoanh/ldtan/Motion_Diffusion/datasets/BEAT_numpy/txt_segments\"\n",
    "print(\"Tổng số file:\", count_files(folder_path))"
   ]
  },
  {
   "cell_type": "code",
   "execution_count": null,
   "id": "f6654bed",
   "metadata": {},
   "outputs": [],
   "source": [
    "# Split dữ liệu  \n",
    "split_data = np.split(piped_data, 2, axis=1)  \n",
    "  \n",
    "# Reshape từng phần từ 3D về 2D  \n",
    "reshaped_data = [data.squeeze(0) for data in split_data]  # Loại bỏ dimension đầu tiên  \n",
    "  \n",
    "# Hoặc nếu bạn chỉ muốn lấy phần đầu tiên:  \n",
    "first_part = split_data[0].squeeze(0)  # Shape: (2070, 264)  \n",
    "  \n",
    "# Inverse transform  \n",
    "reconstructed_data = data_pipe.inverse_transform([first_part])  \n",
    "  \n",
    "# Visualize  \n",
    "draw_stickfigure(reconstructed_data[0], frame=130)"
   ]
  },
  {
   "cell_type": "code",
   "execution_count": null,
   "id": "ad70b89d",
   "metadata": {},
   "outputs": [],
   "source": [
    "pipe_data = np.load('/home/ltdoanh/ldtan/Motion_Diffusion/checkpoints/motion.npy')\n",
    "reconstructed_data = data_pipe.inverse_transform([pipe_data])  \n",
    "from pymo.viz_tools import draw_stickfigure\n",
    "# Sau đó có thể visualize  \n",
    "draw_stickfigure(reconstructed_data[0], frame=1)"
   ]
  },
  {
   "cell_type": "code",
   "execution_count": null,
   "id": "9b2b5910",
   "metadata": {},
   "outputs": [],
   "source": [
    "mp = MocapParameterizer('position')\n",
    "\n",
    "positions = mp.fit_transform([parsed_data])"
   ]
  },
  {
   "cell_type": "code",
   "execution_count": 6,
   "id": "065c6a40",
   "metadata": {},
   "outputs": [
    {
     "data": {
      "text/plain": [
       "<pymo.data.MocapData at 0x748dec6f0700>"
      ]
     },
     "execution_count": 6,
     "metadata": {},
     "output_type": "execute_result"
    }
   ],
   "source": [
    "positions[0]"
   ]
  },
  {
   "cell_type": "code",
   "execution_count": 10,
   "id": "25e5eb45",
   "metadata": {},
   "outputs": [
    {
     "data": {
      "text/plain": [
       "<AxesSubplot:>"
      ]
     },
     "execution_count": 10,
     "metadata": {},
     "output_type": "execute_result"
    },
    {
     "data": {
      "image/png": "[encoded data removed]",
      "text/plain": [
       "<Figure size 800x800 with 1 Axes>"
      ]
     },
     "metadata": {},
     "output_type": "display_data"
    }
   ],
   "source": [
    "from pymo.viz_tools import draw_stickfigure\n",
    "draw_stickfigure(positions[0], frame=130)"
   ]
  },
  {
   "cell_type": "code",
   "execution_count": null,
   "id": "cf045f48",
   "metadata": {},
   "outputs": [],
   "source": [
    "from pymo.preprocessing import *  \n",
    "from sklearn.pipeline import Pipeline  \n",
    "  \n",
    "# Tạo pipeline với Numpyfier ở cuối  \n",
    "data_pipe = Pipeline([  \n",
    "    ('param', MocapParameterizer('position')),  \n",
    "    ('rcpn', RootCentricPositionNormalizer()),  \n",
    "    ('delta', RootTransformer('abdolute_translation_deltas')),  \n",
    "    ('const', ConstantsRemover()),  \n",
    "    ('np', Numpyfier()),  # Chuyển đổi sang numpy array  \n",
    "    ('down', DownSampler(2)),  \n",
    "    ('stdscale', ListStandardScaler())  \n",
    "])  \n",
    "  \n",
    "# Áp dụng pipeline  \n",
    "piped_data = data_pipe.fit_transform([parsed_data])  \n",
    "  \n",
    "# Xem shape  \n",
    "print(piped_data.shape) "
   ]
  },
  {
   "cell_type": "code",
   "execution_count": null,
   "id": "a6735876",
   "metadata": {},
   "outputs": [
    {
     "name": "stdout",
     "output_type": "stream",
     "text": [
      "✅ Saved: 000_sentence.npy (81–407)\n",
      "✅ Saved: 001_sentence.npy (442–779)\n",
      "✅ Saved: 002_sentence.npy (815–1041)\n",
      "✅ Saved: 003_sentence.npy (1089–1387)\n",
      "✅ Saved: 004_sentence.npy (1436–1759)\n",
      "✅ Saved: 005_sentence.npy (1792–2351)\n",
      "✅ Saved: 006_sentence.npy (2389–2495)\n",
      "✅ Saved: 007_sentence.npy (2564–2959)\n",
      "✅ Saved: 008_sentence.npy (3000–3547)\n",
      "✅ Saved: 009_sentence.npy (3582–3732)\n",
      "✅ Saved: 010_sentence.npy (3775–4036)\n"
     ]
    }
   ],
   "source": [
    "import os\n",
    "import numpy as np\n",
    "from textgrid import TextGrid\n",
    "\n",
    "def time_to_frame(t, fps=60):\n",
    "    return int(round(t * fps))\n",
    "\n",
    "def extract_sentences_with_text(\n",
    "    textgrid_path, text_path, motion_data, output_dir, fps=60, pause_threshold=0.5\n",
    "):\n",
    "    basename = os.path.splitext(os.path.basename(textgrid_path))[0]  # ví dụ: 1_wayne_0_1_1\n",
    "    motion = motion_data[0]  # shape: (num_frames, 264)\n",
    "\n",
    "    tg = TextGrid.fromFile(textgrid_path)\n",
    "    tier = tg[0]  # chỉ lấy item[1]\n",
    "\n",
    "    with open(text_path, 'r') as f:\n",
    "        full_text = f.read().strip()\n",
    "\n",
    "    os.makedirs(output_dir, exist_ok=True)\n",
    "\n",
    "    sentence_start = None\n",
    "    sentence_end = None\n",
    "    sentence_text = []\n",
    "    sentence_idx = 0\n",
    "\n",
    "    for interval in tier.intervals:\n",
    "        word = interval.mark.strip()\n",
    "        xmin = float(interval.minTime)\n",
    "        xmax = float(interval.maxTime)\n",
    "\n",
    "        if word != \"\":\n",
    "            if sentence_start is None:\n",
    "                sentence_start = xmin\n",
    "            sentence_end = xmax\n",
    "            sentence_text.append(word)\n",
    "        else:\n",
    "            pause = xmax - xmin\n",
    "            if pause >= pause_threshold and sentence_text:\n",
    "                # Save motion\n",
    "                start_frame = time_to_frame(sentence_start, fps)\n",
    "                end_frame = time_to_frame(sentence_end, fps)\n",
    "                motion_segment = motion[start_frame:end_frame, :]\n",
    "\n",
    "                fname_base = f\"{basename}_sentence_{sentence_idx:03d}\"\n",
    "                np.save(os.path.join(output_dir, fname_base + \".npy\"), motion_segment)\n",
    "\n",
    "                # Save sentence text\n",
    "                with open(os.path.join(output_dir, fname_base + \".txt\"), 'w') as ftxt:\n",
    "                    ftxt.write(\" \".join(sentence_text))\n",
    "\n",
    "                print(f\"✅ Saved: {fname_base}.npy & .txt\")\n",
    "\n",
    "                sentence_idx += 1\n",
    "                sentence_start = None\n",
    "                sentence_end = None\n",
    "                sentence_text = []\n",
    "\n",
    "    # Save câu cuối cùng nếu còn\n",
    "    if sentence_text:\n",
    "        start_frame = time_to_frame(sentence_start, fps)\n",
    "        end_frame = time_to_frame(sentence_end, fps)\n",
    "        motion_segment = motion[start_frame:end_frame, :]\n",
    "\n",
    "        fname_base = f\"{basename}_sentence_{sentence_idx:03d}\"\n",
    "        np.save(os.path.join(output_dir, fname_base + \".npy\"), motion_segment)\n",
    "        with open(os.path.join(output_dir, fname_base + \".txt\"), 'w') as ftxt:\n",
    "            ftxt.write(\" \".join(sentence_text))\n",
    "        print(f\"✅ Saved: {fname_base}.npy & .txt\")\n",
    "\n"
   ]
  },
  {
   "cell_type": "code",
   "execution_count": 3,
   "id": "4814fd7a",
   "metadata": {},
   "outputs": [
    {
     "name": "stdout",
     "output_type": "stream",
     "text": [
      "Đã tạo /home/ltdoanh/ldtan/Motion_Diffusion/datasets/beat2motion_dataset/train.txt với 955 clip id.\n"
     ]
    }
   ],
   "source": [
    "import os\n",
    "\n",
    "# Thư mục chứa các segment (npy hoặc txt)\n",
    "segment_dir = \"/home/ltdoanh/ldtan/Motion_Diffusion/datasets/beat2motion_dataset/npy_segments\"  # sửa lại cho đúng đường dẫn của bạn\n",
    "output_txt = \"/home/ltdoanh/ldtan/Motion_Diffusion/datasets/beat2motion_dataset/train.txt\"      # nơi lưu file train.txt\n",
    "\n",
    "clip_ids = []\n",
    "for fname in os.listdir(segment_dir):\n",
    "    if fname.endswith(\".npy\"):  # hoặc \".txt\" nếu muốn lấy theo file text\n",
    "        clip_id = os.path.splitext(fname)[0]\n",
    "        clip_ids.append(clip_id)\n",
    "\n",
    "clip_ids = sorted(set(clip_ids))  # loại trùng và sắp xếp\n",
    "\n",
    "with open(output_txt, \"w\", encoding=\"utf-8\") as f:\n",
    "    for cid in clip_ids:\n",
    "        f.write(cid + \"\\n\")\n",
    "\n",
    "print(f\"Đã tạo {output_txt} với {len(clip_ids)} clip id.\")"
   ]
  },
  {
   "cell_type": "code",
   "execution_count": null,
   "id": "e232aa53",
   "metadata": {},
   "outputs": [],
   "source": []
  }
 ],
 "metadata": {
  "kernelspec": {
   "display_name": "nextgpt",
   "language": "python",
   "name": "python3"
  },
  "language_info": {
   "codemirror_mode": {
    "name": "ipython",
    "version": 3
   },
   "file_extension": ".py",
   "mimetype": "text/x-python",
   "name": "python",
   "nbconvert_exporter": "python",
   "pygments_lexer": "ipython3",
   "version": "3.10.14"
  }
 },
 "nbformat": 4,
 "nbformat_minor": 5
}
